{
 "cells": [
  {
   "cell_type": "code",
   "execution_count": 36,
   "metadata": {},
   "outputs": [],
   "source": [
    "import re\n",
    "import pandas as pd"
   ]
  },
  {
   "cell_type": "code",
   "execution_count": 37,
   "metadata": {},
   "outputs": [
    {
     "data": {
      "text/html": [
       "<div>\n",
       "<style scoped>\n",
       "    .dataframe tbody tr th:only-of-type {\n",
       "        vertical-align: middle;\n",
       "    }\n",
       "\n",
       "    .dataframe tbody tr th {\n",
       "        vertical-align: top;\n",
       "    }\n",
       "\n",
       "    .dataframe thead th {\n",
       "        text-align: right;\n",
       "    }\n",
       "</style>\n",
       "<table border=\"1\" class=\"dataframe\">\n",
       "  <thead>\n",
       "    <tr style=\"text-align: right;\">\n",
       "      <th></th>\n",
       "      <th>Text</th>\n",
       "      <th>Sentiment</th>\n",
       "    </tr>\n",
       "  </thead>\n",
       "  <tbody>\n",
       "    <tr>\n",
       "      <th>0</th>\n",
       "      <td>warung ini dimiliki oleh pengusaha pabrik tahu...</td>\n",
       "      <td>positive</td>\n",
       "    </tr>\n",
       "    <tr>\n",
       "      <th>1</th>\n",
       "      <td>mohon ulama lurus dan k212 mmbri hujjah partai...</td>\n",
       "      <td>neutral</td>\n",
       "    </tr>\n",
       "    <tr>\n",
       "      <th>2</th>\n",
       "      <td>lokasi strategis di jalan sumatera bandung . t...</td>\n",
       "      <td>positive</td>\n",
       "    </tr>\n",
       "    <tr>\n",
       "      <th>3</th>\n",
       "      <td>betapa bahagia nya diri ini saat unboxing pake...</td>\n",
       "      <td>positive</td>\n",
       "    </tr>\n",
       "    <tr>\n",
       "      <th>4</th>\n",
       "      <td>duh . jadi mahasiswa jangan sombong dong . kas...</td>\n",
       "      <td>negative</td>\n",
       "    </tr>\n",
       "    <tr>\n",
       "      <th>...</th>\n",
       "      <td>...</td>\n",
       "      <td>...</td>\n",
       "    </tr>\n",
       "    <tr>\n",
       "      <th>10995</th>\n",
       "      <td>tidak kecewa</td>\n",
       "      <td>positive</td>\n",
       "    </tr>\n",
       "    <tr>\n",
       "      <th>10996</th>\n",
       "      <td>enak rasa masakan nya apalagi kepiting yang me...</td>\n",
       "      <td>positive</td>\n",
       "    </tr>\n",
       "    <tr>\n",
       "      <th>10997</th>\n",
       "      <td>hormati partai-partai yang telah berkoalisi</td>\n",
       "      <td>neutral</td>\n",
       "    </tr>\n",
       "    <tr>\n",
       "      <th>10998</th>\n",
       "      <td>pagi pagi di tol pasteur sudah macet parah , b...</td>\n",
       "      <td>negative</td>\n",
       "    </tr>\n",
       "    <tr>\n",
       "      <th>10999</th>\n",
       "      <td>meskipun sering belanja ke yogya di riau junct...</td>\n",
       "      <td>positive</td>\n",
       "    </tr>\n",
       "  </tbody>\n",
       "</table>\n",
       "<p>11000 rows × 2 columns</p>\n",
       "</div>"
      ],
      "text/plain": [
       "                                                    Text Sentiment\n",
       "0      warung ini dimiliki oleh pengusaha pabrik tahu...  positive\n",
       "1      mohon ulama lurus dan k212 mmbri hujjah partai...   neutral\n",
       "2      lokasi strategis di jalan sumatera bandung . t...  positive\n",
       "3      betapa bahagia nya diri ini saat unboxing pake...  positive\n",
       "4      duh . jadi mahasiswa jangan sombong dong . kas...  negative\n",
       "...                                                  ...       ...\n",
       "10995                                       tidak kecewa  positive\n",
       "10996  enak rasa masakan nya apalagi kepiting yang me...  positive\n",
       "10997        hormati partai-partai yang telah berkoalisi   neutral\n",
       "10998  pagi pagi di tol pasteur sudah macet parah , b...  negative\n",
       "10999  meskipun sering belanja ke yogya di riau junct...  positive\n",
       "\n",
       "[11000 rows x 2 columns]"
      ]
     },
     "execution_count": 37,
     "metadata": {},
     "output_type": "execute_result"
    }
   ],
   "source": [
    "#read dataset \n",
    "data = pd.read_csv('train_preprocess.tsv.txt', encoding= 'latin1', names = ['Text','Sentiment'], sep = '\\t')\n",
    "data"
   ]
  },
  {
   "cell_type": "code",
   "execution_count": 38,
   "metadata": {},
   "outputs": [
    {
     "data": {
      "text/plain": [
       "np.int64(67)"
      ]
     },
     "execution_count": 38,
     "metadata": {},
     "output_type": "execute_result"
    }
   ],
   "source": [
    "#check jumlah data duplikat\n",
    "data.duplicated().sum()"
   ]
  },
  {
   "cell_type": "code",
   "execution_count": 39,
   "metadata": {},
   "outputs": [],
   "source": [
    "#drop data duplikat \n",
    "data = data.drop_duplicates()"
   ]
  },
  {
   "cell_type": "code",
   "execution_count": 40,
   "metadata": {},
   "outputs": [
    {
     "data": {
      "text/plain": [
       "np.int64(0)"
      ]
     },
     "execution_count": 40,
     "metadata": {},
     "output_type": "execute_result"
    }
   ],
   "source": [
    "#check jumlah data duplikat setelah di drop\n",
    "data.duplicated().sum()"
   ]
  },
  {
   "cell_type": "code",
   "execution_count": 41,
   "metadata": {},
   "outputs": [
    {
     "data": {
      "text/plain": [
       "Text         0\n",
       "Sentiment    0\n",
       "dtype: int64"
      ]
     },
     "execution_count": 41,
     "metadata": {},
     "output_type": "execute_result"
    }
   ],
   "source": [
    "#check missing values \n",
    "data.isna().sum()"
   ]
  },
  {
   "cell_type": "code",
   "execution_count": 42,
   "metadata": {},
   "outputs": [
    {
     "name": "stdout",
     "output_type": "stream",
     "text": [
      "<class 'pandas.core.frame.DataFrame'>\n",
      "Index: 10933 entries, 0 to 10999\n",
      "Data columns (total 2 columns):\n",
      " #   Column     Non-Null Count  Dtype \n",
      "---  ------     --------------  ----- \n",
      " 0   Text       10933 non-null  object\n",
      " 1   Sentiment  10933 non-null  object\n",
      "dtypes: object(2)\n",
      "memory usage: 256.2+ KB\n"
     ]
    }
   ],
   "source": [
    "data.info()"
   ]
  },
  {
   "cell_type": "code",
   "execution_count": 43,
   "metadata": {},
   "outputs": [],
   "source": [
    "#read kamus alay and abusive\n",
    "alay = pd.read_csv(\"new_kamusalay.csv\", encoding='latin1', header= None)\n",
    "alay = alay.rename(columns={0: 'non-alay', 1: 'alay'})              \n",
    "\n",
    "abuse = pd.read_csv(\"abusive.csv\", encoding='latin1')"
   ]
  },
  {
   "cell_type": "code",
   "execution_count": 44,
   "metadata": {},
   "outputs": [],
   "source": [
    "#membuat dict kamus alay dan abusive \n",
    "alay_dict = dict(zip(alay['non-alay'], alay['alay']))\n",
    "def fix_alay(text):\n",
    "    return ' '.join([alay_dict[word] if word in alay_dict else word for word in text.split(' ')])\n",
    "\n",
    "abuse_dict = dict(zip(abuse['ABUSIVE'], [''] * len(abuse)))\n",
    "def fix_abusive(text):\n",
    "    return ' '.join([abuse_dict[word] if word in abuse_dict else word for word in text.split(' ')])"
   ]
  },
  {
   "cell_type": "code",
   "execution_count": 45,
   "metadata": {},
   "outputs": [],
   "source": [
    "#script untuk data cleansing \n",
    "def lower(text):\n",
    "    return text.lower()\n",
    "    \n",
    "def remove_unnecessary_char(text):\n",
    "    text = re.sub('\\n',' ',text) \n",
    "    text = re.sub('\\s+',' ',text)\n",
    "    text = re.sub('\\t+',' ',text)\n",
    "    text = re.sub('rt',' ',text)\n",
    "    text = re.sub('user',' ',text)\n",
    "    text = re.sub('((www\\.[^\\s]+)|(https?://[^\\s]+)|(http?://[^\\s]+))',' ',text)\n",
    "    text = re.sub('  +', ' ', text)\n",
    "    return text\n",
    "\n",
    "    \n",
    "def remove_nonaplhanumeric(text):\n",
    "    text = re.sub(r'\\\\x[0-9a-fA-F]{2}', '', text)\n",
    "    text = re.sub(r'\\bx[0-9a-fA-F]{1,2}\\b', '', text)\n",
    "    text = re.sub(r'[^a-zA-Z0-9\\s]', '', text)\n",
    "    text = re.sub(r'(?<=[a-z])(?=[A-Z])', ' ', text)\n",
    "    text = re.sub(r'\\s+', ' ', text).strip()\n",
    "    return text"
   ]
  },
  {
   "cell_type": "code",
   "execution_count": 46,
   "metadata": {},
   "outputs": [],
   "source": [
    "#mengumpulkan semua script tersebut ke satu def \n",
    "def cleaning (text):\n",
    "    text = lower(text)\n",
    "    text = remove_unnecessary_char(text)\n",
    "    text = remove_nonaplhanumeric(text)\n",
    "    text = fix_alay(text)\n",
    "    text = fix_abusive(text)\n",
    "    return text"
   ]
  },
  {
   "cell_type": "code",
   "execution_count": 49,
   "metadata": {},
   "outputs": [
    {
     "data": {
      "text/html": [
       "<div>\n",
       "<style scoped>\n",
       "    .dataframe tbody tr th:only-of-type {\n",
       "        vertical-align: middle;\n",
       "    }\n",
       "\n",
       "    .dataframe tbody tr th {\n",
       "        vertical-align: top;\n",
       "    }\n",
       "\n",
       "    .dataframe thead th {\n",
       "        text-align: right;\n",
       "    }\n",
       "</style>\n",
       "<table border=\"1\" class=\"dataframe\">\n",
       "  <thead>\n",
       "    <tr style=\"text-align: right;\">\n",
       "      <th></th>\n",
       "      <th>Text</th>\n",
       "      <th>Text_Bersih</th>\n",
       "      <th>Sentiment</th>\n",
       "    </tr>\n",
       "  </thead>\n",
       "  <tbody>\n",
       "    <tr>\n",
       "      <th>10977</th>\n",
       "      <td>sudah wanita tuna susila mah wanita tuna susil...</td>\n",
       "      <td>sudah wanita tuna susila adalah wanita tuna su...</td>\n",
       "      <td>negative</td>\n",
       "    </tr>\n",
       "    <tr>\n",
       "      <th>10978</th>\n",
       "      <td>pdip tidak senang bila nkri damai beragam sih !</td>\n",
       "      <td>partai demokrasi indonesia perjuangan tidak se...</td>\n",
       "      <td>negative</td>\n",
       "    </tr>\n",
       "    <tr>\n",
       "      <th>10980</th>\n",
       "      <td>beragam menu bakso tahu dan berbagai menu minu...</td>\n",
       "      <td>beragam menu bakso tahu dan berbagai menu minu...</td>\n",
       "      <td>positive</td>\n",
       "    </tr>\n",
       "    <tr>\n",
       "      <th>10981</th>\n",
       "      <td>rumah payung terkenal dengan restoran yang sel...</td>\n",
       "      <td>rumah payung terkenal dengan restoran yang sel...</td>\n",
       "      <td>positive</td>\n",
       "    </tr>\n",
       "    <tr>\n",
       "      <th>10982</th>\n",
       "      <td>tolong dibaca pesan saya ! di dalam kotak hand...</td>\n",
       "      <td>tolong dibaca pesan saya di dalam kotak handph...</td>\n",
       "      <td>negative</td>\n",
       "    </tr>\n",
       "    <tr>\n",
       "      <th>10983</th>\n",
       "      <td>saya sangat puas dengan spesifikasi laptop asus</td>\n",
       "      <td>saya sangat puas dengan spesifikasi laptop asus</td>\n",
       "      <td>positive</td>\n",
       "    </tr>\n",
       "    <tr>\n",
       "      <th>10984</th>\n",
       "      <td>makanan menurut saya biasa saja , hanya suasan...</td>\n",
       "      <td>makanan menurut saya biasa saja hanya suasana ...</td>\n",
       "      <td>positive</td>\n",
       "    </tr>\n",
       "    <tr>\n",
       "      <th>10985</th>\n",
       "      <td>sumpah gue kecewa banget dengan sms , cuma tea...</td>\n",
       "      <td>sumpah gue kecewa banget dengan sms cuma tease...</td>\n",
       "      <td>negative</td>\n",
       "    </tr>\n",
       "    <tr>\n",
       "      <th>10986</th>\n",
       "      <td>positif : pemandangan nya bagus , menyenangkan...</td>\n",
       "      <td>positif pemandangan nya bagus menyenangkan mat...</td>\n",
       "      <td>positive</td>\n",
       "    </tr>\n",
       "    <tr>\n",
       "      <th>10987</th>\n",
       "      <td>ikhlas dalam mengambil hikmah belajar dari keh...</td>\n",
       "      <td>ikhlas dalam mengambil hikmah belajar dari keh...</td>\n",
       "      <td>positive</td>\n",
       "    </tr>\n",
       "    <tr>\n",
       "      <th>10988</th>\n",
       "      <td>puas banget udang telor asin nya ajiibbb . kep...</td>\n",
       "      <td>puas banget udang telur asin nya ajiibbb kepit...</td>\n",
       "      <td>positive</td>\n",
       "    </tr>\n",
       "    <tr>\n",
       "      <th>10989</th>\n",
       "      <td>tadinya pengin mengantar teman dari kalau ke r...</td>\n",
       "      <td>tadinya ingin mengantar teman dari kalau ke re...</td>\n",
       "      <td>negative</td>\n",
       "    </tr>\n",
       "    <tr>\n",
       "      <th>10990</th>\n",
       "      <td>datang ke sini sore hari pakai baju agak tebal...</td>\n",
       "      <td>datang ke sini sore hari pakai baju agak tebal...</td>\n",
       "      <td>positive</td>\n",
       "    </tr>\n",
       "    <tr>\n",
       "      <th>10991</th>\n",
       "      <td>dapat rom awal abad</td>\n",
       "      <td>dapat rom awal abad</td>\n",
       "      <td>negative</td>\n",
       "    </tr>\n",
       "    <tr>\n",
       "      <th>10992</th>\n",
       "      <td>kalau memang jala nya sudah begitu terima saja...</td>\n",
       "      <td>kalau memang jala nya sudah begitu terima saja...</td>\n",
       "      <td>positive</td>\n",
       "    </tr>\n",
       "    <tr>\n",
       "      <th>10993</th>\n",
       "      <td>f - demokrat dorong upaya kemandirian energi n...</td>\n",
       "      <td>f demokrat dorong upaya kemandirian energi nas...</td>\n",
       "      <td>neutral</td>\n",
       "    </tr>\n",
       "    <tr>\n",
       "      <th>10994</th>\n",
       "      <td>tidak bosan</td>\n",
       "      <td>tidak bosan</td>\n",
       "      <td>positive</td>\n",
       "    </tr>\n",
       "    <tr>\n",
       "      <th>10996</th>\n",
       "      <td>enak rasa masakan nya apalagi kepiting yang me...</td>\n",
       "      <td>enak rasa masakan nya apalagi kepiting yang me...</td>\n",
       "      <td>positive</td>\n",
       "    </tr>\n",
       "    <tr>\n",
       "      <th>10998</th>\n",
       "      <td>pagi pagi di tol pasteur sudah macet parah , b...</td>\n",
       "      <td>pagi pagi di tol pasteur sudah macet parah bik...</td>\n",
       "      <td>negative</td>\n",
       "    </tr>\n",
       "    <tr>\n",
       "      <th>10999</th>\n",
       "      <td>meskipun sering belanja ke yogya di riau junct...</td>\n",
       "      <td>meskipun sering belanja ke yogyakarta di riau ...</td>\n",
       "      <td>positive</td>\n",
       "    </tr>\n",
       "  </tbody>\n",
       "</table>\n",
       "</div>"
      ],
      "text/plain": [
       "                                                    Text  \\\n",
       "10977  sudah wanita tuna susila mah wanita tuna susil...   \n",
       "10978    pdip tidak senang bila nkri damai beragam sih !   \n",
       "10980  beragam menu bakso tahu dan berbagai menu minu...   \n",
       "10981  rumah payung terkenal dengan restoran yang sel...   \n",
       "10982  tolong dibaca pesan saya ! di dalam kotak hand...   \n",
       "10983    saya sangat puas dengan spesifikasi laptop asus   \n",
       "10984  makanan menurut saya biasa saja , hanya suasan...   \n",
       "10985  sumpah gue kecewa banget dengan sms , cuma tea...   \n",
       "10986  positif : pemandangan nya bagus , menyenangkan...   \n",
       "10987  ikhlas dalam mengambil hikmah belajar dari keh...   \n",
       "10988  puas banget udang telor asin nya ajiibbb . kep...   \n",
       "10989  tadinya pengin mengantar teman dari kalau ke r...   \n",
       "10990  datang ke sini sore hari pakai baju agak tebal...   \n",
       "10991                                dapat rom awal abad   \n",
       "10992  kalau memang jala nya sudah begitu terima saja...   \n",
       "10993  f - demokrat dorong upaya kemandirian energi n...   \n",
       "10994                                        tidak bosan   \n",
       "10996  enak rasa masakan nya apalagi kepiting yang me...   \n",
       "10998  pagi pagi di tol pasteur sudah macet parah , b...   \n",
       "10999  meskipun sering belanja ke yogya di riau junct...   \n",
       "\n",
       "                                             Text_Bersih Sentiment  \n",
       "10977  sudah wanita tuna susila adalah wanita tuna su...  negative  \n",
       "10978  partai demokrasi indonesia perjuangan tidak se...  negative  \n",
       "10980  beragam menu bakso tahu dan berbagai menu minu...  positive  \n",
       "10981  rumah payung terkenal dengan restoran yang sel...  positive  \n",
       "10982  tolong dibaca pesan saya di dalam kotak handph...  negative  \n",
       "10983    saya sangat puas dengan spesifikasi laptop asus  positive  \n",
       "10984  makanan menurut saya biasa saja hanya suasana ...  positive  \n",
       "10985  sumpah gue kecewa banget dengan sms cuma tease...  negative  \n",
       "10986  positif pemandangan nya bagus menyenangkan mat...  positive  \n",
       "10987  ikhlas dalam mengambil hikmah belajar dari keh...  positive  \n",
       "10988  puas banget udang telur asin nya ajiibbb kepit...  positive  \n",
       "10989  tadinya ingin mengantar teman dari kalau ke re...  negative  \n",
       "10990  datang ke sini sore hari pakai baju agak tebal...  positive  \n",
       "10991                                dapat rom awal abad  negative  \n",
       "10992  kalau memang jala nya sudah begitu terima saja...  positive  \n",
       "10993  f demokrat dorong upaya kemandirian energi nas...   neutral  \n",
       "10994                                        tidak bosan  positive  \n",
       "10996  enak rasa masakan nya apalagi kepiting yang me...  positive  \n",
       "10998  pagi pagi di tol pasteur sudah macet parah bik...  negative  \n",
       "10999  meskipun sering belanja ke yogyakarta di riau ...  positive  "
      ]
     },
     "execution_count": 49,
     "metadata": {},
     "output_type": "execute_result"
    }
   ],
   "source": [
    "#apply script data cleansing ke dataset \n",
    "data ['Text_Bersih']= data['Text'].apply(cleaning)\n",
    "data = data[['Text','Text_Bersih','Sentiment']]\n",
    "data.tail(20)"
   ]
  },
  {
   "cell_type": "code",
   "execution_count": 48,
   "metadata": {},
   "outputs": [
    {
     "name": "stdout",
     "output_type": "stream",
     "text": [
      "<class 'pandas.core.frame.DataFrame'>\n",
      "Index: 10933 entries, 0 to 10999\n",
      "Data columns (total 3 columns):\n",
      " #   Column       Non-Null Count  Dtype \n",
      "---  ------       --------------  ----- \n",
      " 0   Text         10933 non-null  object\n",
      " 1   Text_Bersih  10933 non-null  object\n",
      " 2   Sentiment    10933 non-null  object\n",
      "dtypes: object(3)\n",
      "memory usage: 341.7+ KB\n"
     ]
    }
   ],
   "source": [
    "data.info()"
   ]
  }
 ],
 "metadata": {
  "kernelspec": {
   "display_name": "Python 3",
   "language": "python",
   "name": "python3"
  },
  "language_info": {
   "codemirror_mode": {
    "name": "ipython",
    "version": 3
   },
   "file_extension": ".py",
   "mimetype": "text/x-python",
   "name": "python",
   "nbconvert_exporter": "python",
   "pygments_lexer": "ipython3",
   "version": "3.9.6"
  }
 },
 "nbformat": 4,
 "nbformat_minor": 2
}
